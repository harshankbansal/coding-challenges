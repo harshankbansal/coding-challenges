{
  "nbformat": 4,
  "nbformat_minor": 0,
  "metadata": {
    "colab": {
      "provenance": [],
      "authorship_tag": "ABX9TyPTBIYaL8lq849jaKDzgYzb",
      "include_colab_link": true
    },
    "kernelspec": {
      "name": "python3",
      "display_name": "Python 3"
    },
    "language_info": {
      "name": "python"
    }
  },
  "cells": [
    {
      "cell_type": "markdown",
      "metadata": {
        "id": "view-in-github",
        "colab_type": "text"
      },
      "source": [
        "<a href=\"https://colab.research.google.com/github/harshankbansal/stack-overflow-challenges/blob/main/08_word_ladder.ipynb\" target=\"_parent\"><img src=\"https://colab.research.google.com/assets/colab-badge.svg\" alt=\"Open In Colab\"/></a>"
      ]
    },
    {
      "cell_type": "markdown",
      "source": [
        "## Word Ladder. Challenge #8\n",
        "\n",
        "Challenge: https://stackoverflow.com/beta/challenges/79768869/code-challenge-8-word-ladder"
      ],
      "metadata": {
        "id": "cHNj7nD1N3nt"
      }
    },
    {
      "cell_type": "code",
      "execution_count": 1,
      "metadata": {
        "id": "hBEaERzgN9xh"
      },
      "outputs": [],
      "source": [
        "# Get word list\n",
        "import os\n",
        "\n",
        "#check if sgb-words.txt file exists\n",
        "if not os.path.exists(\"sgb-words.txt\"):\n",
        "  !wget wget https://cs.stanford.edu/%7Eknuth/sgb-words.txt"
      ]
    },
    {
      "cell_type": "code",
      "source": [
        "!wc -l sgb-words.txt"
      ],
      "metadata": {
        "colab": {
          "base_uri": "https://localhost:8080/"
        },
        "id": "Ra_woXdYOcNa",
        "outputId": "a1d6a63d-7b2a-4755-9f6b-82f337715483"
      },
      "execution_count": 2,
      "outputs": [
        {
          "output_type": "stream",
          "name": "stdout",
          "text": [
            "5757 sgb-words.txt\n"
          ]
        }
      ]
    },
    {
      "cell_type": "code",
      "source": [
        "WORD_LIST = [line.strip() for line in open('sgb-words.txt', 'r')]"
      ],
      "metadata": {
        "id": "74d6TNWYX41o"
      },
      "execution_count": 3,
      "outputs": []
    },
    {
      "cell_type": "code",
      "source": [
        "def get_similarity_score(word1: str, word2: str):\n",
        "  score = sum([c1 == c2 for c1, c2 in zip(word1, word2)])\n",
        "  return score"
      ],
      "metadata": {
        "id": "0FkrKqZrO9QM"
      },
      "execution_count": 4,
      "outputs": []
    },
    {
      "cell_type": "code",
      "source": [
        "def get_neighbours(from_word: str, word_list: list[str]):\n",
        "  return [\n",
        "    w\n",
        "    for w in word_list                                              ## all words\n",
        "    if get_similarity_score(w, from_word) == (len(from_word) -1)    ## with only 1 char is different\n",
        "  ]"
      ],
      "metadata": {
        "id": "W5tLwoMtTCk8"
      },
      "execution_count": 5,
      "outputs": []
    },
    {
      "cell_type": "code",
      "source": [
        "get_similarity_score('money', 'bones')"
      ],
      "metadata": {
        "colab": {
          "base_uri": "https://localhost:8080/"
        },
        "id": "apYAvmgQZaGj",
        "outputId": "849b5473-d486-4d60-a958-66240b99a7e8"
      },
      "execution_count": 6,
      "outputs": [
        {
          "output_type": "execute_result",
          "data": {
            "text/plain": [
              "3"
            ]
          },
          "metadata": {},
          "execution_count": 6
        }
      ]
    },
    {
      "cell_type": "code",
      "source": [
        "get_neighbours('money', WORD_LIST)"
      ],
      "metadata": {
        "colab": {
          "base_uri": "https://localhost:8080/"
        },
        "id": "rmg8PJ1CXyT9",
        "outputId": "5b216204-f8bf-42af-9e5e-006ddfd2fa15"
      },
      "execution_count": 7,
      "outputs": [
        {
          "output_type": "execute_result",
          "data": {
            "text/plain": [
              "['honey', 'mosey', 'coney']"
            ]
          },
          "metadata": {},
          "execution_count": 7
        }
      ]
    },
    {
      "cell_type": "code",
      "source": [
        "from collections import deque\n",
        "def create_ladder(from_word, to_word):\n",
        "  \"\"\"\n",
        "    Implements BFS (Breadth-First Search) to find the shortest word ladder\n",
        "    from 'from_word' to 'to_word'.\n",
        "    Returns a list of words representing the ladder.\n",
        "  \"\"\"\n",
        "  \"\"\"\n",
        "    How it works:\n",
        "    1. Create a ladder with just the from_word\n",
        "    2. Maintain a Queue of pending ladders to explore.\n",
        "    3. Add the initial ladder to the Queue.\n",
        "    4. While there are pending ladders in the Queue\n",
        "      4.1 Get next set of pending ladders.\n",
        "          To get the \"Pending ladders\" get all neighbours of the last word in ladder.\n",
        "      4.2 If the neighbours has the `to_word` the shortest ladder is found, return the same\n",
        "      4.3 Otherwise create new ladder for each neighbour and add it to the end of queue.\n",
        "  \"\"\"\n",
        "  initial_ladder = [from_word]\n",
        "  pending_ladders_to_explore = deque([initial_ladder])\n",
        "  visited_words = set([])\n",
        "\n",
        "  while pending_ladders_to_explore:\n",
        "    current_ladder = pending_ladders_to_explore.popleft()\n",
        "    current_word = current_ladder[-1]\n",
        "    if current_word in visited_words:\n",
        "      continue\n",
        "    neighbours = get_neighbours(current_word, WORD_LIST)\n",
        "\n",
        "    if to_word in neighbours:\n",
        "      return current_ladder + [to_word]\n",
        "\n",
        "    for neighbour in neighbours:\n",
        "      pending_ladders_to_explore.append(current_ladder + [neighbour])\n",
        "    visited_words.add(current_word)\n",
        "\n",
        "  return []"
      ],
      "metadata": {
        "id": "rufS5pxDXyNE"
      },
      "execution_count": 8,
      "outputs": []
    },
    {
      "cell_type": "code",
      "source": [
        "create_ladder('money', 'bones')"
      ],
      "metadata": {
        "colab": {
          "base_uri": "https://localhost:8080/"
        },
        "id": "W3a3B55lRw09",
        "outputId": "d0a2de09-28f7-4b7e-f18a-51a8f99be441"
      },
      "execution_count": 9,
      "outputs": [
        {
          "output_type": "execute_result",
          "data": {
            "text/plain": [
              "['money', 'honey', 'hones', 'bones']"
            ]
          },
          "metadata": {},
          "execution_count": 9
        }
      ]
    },
    {
      "cell_type": "code",
      "source": [
        "tests = [\n",
        "  ['stone', 'money'],\n",
        "  ['bread', 'crumb'],\n",
        "  ['smile', 'giant'],\n",
        "  ['apple', 'zebra'],\n",
        "  ['other', 'night'],\n",
        "  ['bread', 'blood'],\n",
        "  ['black', 'white'],\n",
        "]\n",
        "\n",
        "print('| Test ID | From Word | To Word | Length of Ladder | Ladder |')\n",
        "print('| --- | --- | --- | --- | --- |')\n",
        "for idx, (word1, word2) in enumerate(tests):\n",
        "  ladder = create_ladder(word1, word2)\n",
        "  print(f'| {idx+1} | {word1} | {word2} | {len(ladder)} | {\" -> \".join(ladder)} |')"
      ],
      "metadata": {
        "colab": {
          "base_uri": "https://localhost:8080/"
        },
        "id": "5VH4MGhRTBBb",
        "outputId": "2550dbd3-249b-4621-e5e6-4625c2008c1c"
      },
      "execution_count": 10,
      "outputs": [
        {
          "output_type": "stream",
          "name": "stdout",
          "text": [
            "| Test ID | From Word | To Word | Length of Ladder | Ladder |\n",
            "| --- | --- | --- | --- | --- |\n",
            "| 1 | stone | money | 11 | stone -> shone -> shine -> shins -> chins -> coins -> corns -> cores -> cones -> coney -> money |\n",
            "| 2 | bread | crumb | 11 | bread -> breed -> freed -> fried -> fries -> pries -> prims -> primp -> crimp -> crump -> crumb |\n",
            "| 3 | smile | giant | 11 | smile -> stile -> stilt -> stint -> saint -> taint -> taunt -> gaunt -> grunt -> grant -> giant |\n",
            "| 4 | apple | zebra | 0 |  |\n",
            "| 5 | other | night | 17 | other -> otter -> outer -> cuter -> cater -> rater -> raver -> river -> rivet -> revet -> reset -> beset -> beget -> begot -> bigot -> bight -> night |\n",
            "| 6 | bread | blood | 4 | bread -> broad -> brood -> blood |\n",
            "| 7 | black | white | 8 | black -> blank -> blink -> clink -> chink -> chine -> whine -> white |\n"
          ]
        }
      ]
    }
  ]
}
